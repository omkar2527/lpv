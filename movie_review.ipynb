{
 "cells": [
  {
   "cell_type": "code",
   "execution_count": 1,
   "id": "077d9f8d",
   "metadata": {},
   "outputs": [],
   "source": [
    "from keras.datasets import imdb"
   ]
  },
  {
   "cell_type": "code",
   "execution_count": 2,
   "id": "63ccc209",
   "metadata": {},
   "outputs": [
    {
     "name": "stdout",
     "output_type": "stream",
     "text": [
      "Downloading data from https://storage.googleapis.com/tensorflow/tf-keras-datasets/imdb.npz\n",
      "17464789/17464789 [==============================] - 9s 1us/step\n"
     ]
    }
   ],
   "source": [
    "(train_data,train_label),(test_data,test_label) = imdb.load_data(num_words=10000)"
   ]
  },
  {
   "cell_type": "code",
   "execution_count": 3,
   "id": "691c1ce8",
   "metadata": {},
   "outputs": [],
   "source": [
    "import numpy as np\n",
    "\n",
    "def vectorize_sequences(sequences,dimensions=10000):\n",
    "    results = np.zeros((len(sequences),dimensions))\n",
    "    for i,sequence in enumerate(sequences):\n",
    "        results[i,sequence]=1\n",
    "        \n",
    "    return results\n",
    "\n",
    "x_train = vectorize_sequences(train_data)\n",
    "x_test = vectorize_sequences(test_data)"
   ]
  },
  {
   "cell_type": "code",
   "execution_count": 4,
   "id": "fb0f957d",
   "metadata": {},
   "outputs": [],
   "source": [
    "y_train = np.asarray(train_label).astype('float32')\n",
    "y_test= np.asarray(test_label).astype('float32')"
   ]
  },
  {
   "cell_type": "code",
   "execution_count": 5,
   "id": "73e8f415",
   "metadata": {},
   "outputs": [],
   "source": [
    "from keras.models import Sequential\n",
    "from keras.layers import Dense"
   ]
  },
  {
   "cell_type": "code",
   "execution_count": 6,
   "id": "a2de32c5",
   "metadata": {},
   "outputs": [],
   "source": [
    "model = Sequential()\n",
    "\n",
    "model.add(Dense(16,input_shape=(10000,),activation='relu'))\n",
    "model.add(Dense(16,activation = 'relu'))\n",
    "model.add(Dense(1,activation = 'sigmoid'))"
   ]
  },
  {
   "cell_type": "code",
   "execution_count": 7,
   "id": "24a85e82",
   "metadata": {},
   "outputs": [],
   "source": [
    "model.compile(optimizer='adam',loss='mse',metrics=['accuracy'])"
   ]
  },
  {
   "cell_type": "code",
   "execution_count": 8,
   "id": "6c3e6320",
   "metadata": {},
   "outputs": [
    {
     "name": "stdout",
     "output_type": "stream",
     "text": [
      "Model: \"sequential\"\n",
      "_________________________________________________________________\n",
      " Layer (type)                Output Shape              Param #   \n",
      "=================================================================\n",
      " dense (Dense)               (None, 16)                160016    \n",
      "                                                                 \n",
      " dense_1 (Dense)             (None, 16)                272       \n",
      "                                                                 \n",
      " dense_2 (Dense)             (None, 1)                 17        \n",
      "                                                                 \n",
      "=================================================================\n",
      "Total params: 160305 (626.19 KB)\n",
      "Trainable params: 160305 (626.19 KB)\n",
      "Non-trainable params: 0 (0.00 Byte)\n",
      "_________________________________________________________________\n"
     ]
    }
   ],
   "source": [
    "model.summary()"
   ]
  },
  {
   "cell_type": "code",
   "execution_count": 9,
   "id": "686b19c3",
   "metadata": {},
   "outputs": [
    {
     "name": "stdout",
     "output_type": "stream",
     "text": [
      "Epoch 1/20\n",
      "40/40 [==============================] - 2s 35ms/step - loss: 0.1713 - accuracy: 0.7886 - val_loss: 0.1064 - val_accuracy: 0.8770\n",
      "Epoch 2/20\n",
      "40/40 [==============================] - 1s 15ms/step - loss: 0.0783 - accuracy: 0.9104 - val_loss: 0.0878 - val_accuracy: 0.8862\n",
      "Epoch 3/20\n",
      "40/40 [==============================] - 1s 15ms/step - loss: 0.0562 - accuracy: 0.9358 - val_loss: 0.0818 - val_accuracy: 0.8924\n",
      "Epoch 4/20\n",
      "40/40 [==============================] - 1s 15ms/step - loss: 0.0431 - accuracy: 0.9534 - val_loss: 0.0832 - val_accuracy: 0.8904\n",
      "Epoch 5/20\n",
      "40/40 [==============================] - 1s 15ms/step - loss: 0.0360 - accuracy: 0.9637 - val_loss: 0.0847 - val_accuracy: 0.8896\n",
      "Epoch 6/20\n",
      "40/40 [==============================] - 1s 16ms/step - loss: 0.0286 - accuracy: 0.9729 - val_loss: 0.0870 - val_accuracy: 0.8854\n",
      "Epoch 7/20\n",
      "40/40 [==============================] - 1s 16ms/step - loss: 0.0235 - accuracy: 0.9796 - val_loss: 0.0887 - val_accuracy: 0.8838\n",
      "Epoch 8/20\n",
      "40/40 [==============================] - 1s 17ms/step - loss: 0.0196 - accuracy: 0.9843 - val_loss: 0.0914 - val_accuracy: 0.8824\n",
      "Epoch 9/20\n",
      "40/40 [==============================] - 1s 16ms/step - loss: 0.0164 - accuracy: 0.9872 - val_loss: 0.0936 - val_accuracy: 0.8802\n",
      "Epoch 10/20\n",
      "40/40 [==============================] - 1s 16ms/step - loss: 0.0138 - accuracy: 0.9895 - val_loss: 0.0965 - val_accuracy: 0.8776\n",
      "Epoch 11/20\n",
      "40/40 [==============================] - 1s 16ms/step - loss: 0.0117 - accuracy: 0.9918 - val_loss: 0.0978 - val_accuracy: 0.8766\n",
      "Epoch 12/20\n",
      "40/40 [==============================] - 1s 14ms/step - loss: 0.0103 - accuracy: 0.9926 - val_loss: 0.1004 - val_accuracy: 0.8754\n",
      "Epoch 13/20\n",
      "40/40 [==============================] - 1s 14ms/step - loss: 0.0090 - accuracy: 0.9934 - val_loss: 0.1018 - val_accuracy: 0.8728\n",
      "Epoch 14/20\n",
      "40/40 [==============================] - 1s 14ms/step - loss: 0.0081 - accuracy: 0.9940 - val_loss: 0.1029 - val_accuracy: 0.8740\n",
      "Epoch 15/20\n",
      "40/40 [==============================] - 1s 14ms/step - loss: 0.0073 - accuracy: 0.9944 - val_loss: 0.1039 - val_accuracy: 0.8728\n",
      "Epoch 16/20\n",
      "40/40 [==============================] - 1s 14ms/step - loss: 0.0068 - accuracy: 0.9948 - val_loss: 0.1059 - val_accuracy: 0.8716\n",
      "Epoch 17/20\n",
      "40/40 [==============================] - 1s 14ms/step - loss: 0.0062 - accuracy: 0.9950 - val_loss: 0.1062 - val_accuracy: 0.8720\n",
      "Epoch 18/20\n",
      "40/40 [==============================] - 1s 14ms/step - loss: 0.0059 - accuracy: 0.9952 - val_loss: 0.1070 - val_accuracy: 0.8718\n",
      "Epoch 19/20\n",
      "40/40 [==============================] - 1s 14ms/step - loss: 0.0056 - accuracy: 0.9953 - val_loss: 0.1081 - val_accuracy: 0.8704\n",
      "Epoch 20/20\n",
      "40/40 [==============================] - 1s 13ms/step - loss: 0.0054 - accuracy: 0.9954 - val_loss: 0.1085 - val_accuracy: 0.8720\n"
     ]
    }
   ],
   "source": [
    "history = model.fit(x_train,y_train,validation_split=0.2,epochs=20,verbose=1,batch_size=512)"
   ]
  },
  {
   "cell_type": "code",
   "execution_count": 10,
   "id": "43e6b25c",
   "metadata": {},
   "outputs": [
    {
     "name": "stdout",
     "output_type": "stream",
     "text": [
      "782/782 [==============================] - 2s 2ms/step - loss: 0.1183 - accuracy: 0.8589\n",
      "MSE  0.11832855641841888\n",
      "MAE  0.8589199781417847\n"
     ]
    }
   ],
   "source": [
    "mse,mae = model.evaluate(x_test,y_test)\n",
    "\n",
    "print('MSE ',mse)\n",
    "print('MAE ',mae)"
   ]
  },
  {
   "cell_type": "code",
   "execution_count": 11,
   "id": "1de98555",
   "metadata": {},
   "outputs": [
    {
     "name": "stdout",
     "output_type": "stream",
     "text": [
      "782/782 [==============================] - 2s 2ms/step\n"
     ]
    },
    {
     "data": {
      "text/plain": [
       "array([[1.15566514e-01],\n",
       "       [9.99998868e-01],\n",
       "       [5.88674447e-04],\n",
       "       ...,\n",
       "       [1.04911521e-01],\n",
       "       [6.11997349e-03],\n",
       "       [4.46219146e-01]], dtype=float32)"
      ]
     },
     "execution_count": 11,
     "metadata": {},
     "output_type": "execute_result"
    }
   ],
   "source": [
    "y_preds = model.predict(x_test)\n",
    "y_preds"
   ]
  },
  {
   "cell_type": "code",
   "execution_count": 12,
   "id": "bb21273d",
   "metadata": {},
   "outputs": [
    {
     "data": {
      "text/plain": [
       "array([0., 1., 1., ..., 0., 0., 0.], dtype=float32)"
      ]
     },
     "execution_count": 12,
     "metadata": {},
     "output_type": "execute_result"
    }
   ],
   "source": [
    "y_test"
   ]
  },
  {
   "cell_type": "code",
   "execution_count": 13,
   "id": "6688d5a7",
   "metadata": {},
   "outputs": [],
   "source": [
    "tests=[]\n",
    "for i in y_test:\n",
    "    tests.append(int(i))\n",
    "preds=[]\n",
    "for i in y_preds:\n",
    "    if i[0]>0.5:\n",
    "        preds.append(1)\n",
    "    else:\n",
    "        preds.append(0)"
   ]
  },
  {
   "cell_type": "code",
   "execution_count": 14,
   "id": "516f2f73",
   "metadata": {},
   "outputs": [
    {
     "name": "stdout",
     "output_type": "stream",
     "text": [
      "0.85892\n",
      "0.8620773141796465\n",
      "0.85456\n"
     ]
    }
   ],
   "source": [
    "from sklearn.metrics import accuracy_score,precision_score,recall_score\n",
    "\n",
    "print(accuracy_score(tests,preds))\n",
    "print(precision_score(tests,preds))\n",
    "print(recall_score(tests,preds))"
   ]
  },
  {
   "cell_type": "code",
   "execution_count": 15,
   "id": "376ab67b",
   "metadata": {},
   "outputs": [
    {
     "name": "stdout",
     "output_type": "stream",
     "text": [
      "Downloading data from https://storage.googleapis.com/tensorflow/tf-keras-datasets/imdb_word_index.json\n",
      "1641221/1641221 [==============================] - 1s 1us/step\n"
     ]
    }
   ],
   "source": [
    "# word_index is a dictionary mapping words to an integer index\n",
    "word_index = imdb.get_word_index()\n",
    "def return_token(tid):\n",
    "    for k,v in word_index.items():\n",
    "        # We decode the review; note that our indices were offset by 3\n",
    "        # because 0, 1 and 2 are reserved indices for \"padding\", \"start of sequence\", and \"unknown\".\n",
    "        if v==tid-3:\n",
    "            return k\n",
    "    return '?'"
   ]
  },
  {
   "cell_type": "code",
   "execution_count": 16,
   "id": "29112df7",
   "metadata": {},
   "outputs": [],
   "source": [
    "def print_review(id_):\n",
    "    sentence = ' '.join(return_token(i) for i in train_data[id_])\n",
    "    return sentence"
   ]
  },
  {
   "cell_type": "code",
   "execution_count": 17,
   "id": "604b70a2",
   "metadata": {},
   "outputs": [
    {
     "data": {
      "text/plain": [
       "\"? this film was just brilliant casting location scenery story direction everyone's really suited the part they played and you could just imagine being there robert ? is an amazing actor and now the same being director ? father came from the same scottish island as myself so i loved the fact there was a real connection with this film the witty remarks throughout the film were great it was just brilliant so much that i bought the film as soon as it was released for ? and would recommend it to everyone to watch and the fly fishing was amazing really cried at the end it was so sad and you know what they say if you cry at a film it must have been good and this definitely was also ? to the two little boy's that played the ? of norman and paul they were just brilliant children are often left out of the ? list i think because the stars that play them all grown up are such a big profile for the whole film but these children are amazing and should be praised for what they have done don't you think the whole story was so lovely because it was true and was someone's life after all that was shared with us all\""
      ]
     },
     "execution_count": 17,
     "metadata": {},
     "output_type": "execute_result"
    }
   ],
   "source": [
    "print_review(0)"
   ]
  },
  {
   "cell_type": "code",
   "execution_count": 18,
   "id": "41d3bf0c",
   "metadata": {},
   "outputs": [
    {
     "data": {
      "text/plain": [
       "1"
      ]
     },
     "execution_count": 18,
     "metadata": {},
     "output_type": "execute_result"
    }
   ],
   "source": [
    "train_label[0] #Positive"
   ]
  },
  {
   "cell_type": "code",
   "execution_count": 19,
   "id": "9ca490c8",
   "metadata": {},
   "outputs": [
    {
     "data": {
      "text/plain": [
       "\"? big hair big boobs bad music and a giant safety pin these are the words to best describe this terrible movie i love cheesy horror movies and i've seen hundreds but this had got to be on of the worst ever made the plot is paper thin and ridiculous the acting is an abomination the script is completely laughable the best is the end showdown with the cop and how he worked out who the killer is it's just so damn terribly written the clothes are sickening and funny in equal ? the hair is big lots of boobs ? men wear those cut ? shirts that show off their ? sickening that men actually wore them and the music is just ? trash that plays over and over again in almost every scene there is trashy music boobs and ? taking away bodies and the gym still doesn't close for ? all joking aside this is a truly bad film whose only charm is to look back on the disaster that was the 80's and have a good old laugh at how bad everything was back then\""
      ]
     },
     "execution_count": 19,
     "metadata": {},
     "output_type": "execute_result"
    }
   ],
   "source": [
    "print_review(1)"
   ]
  },
  {
   "cell_type": "code",
   "execution_count": 20,
   "id": "6923e4cb",
   "metadata": {},
   "outputs": [
    {
     "data": {
      "text/plain": [
       "0"
      ]
     },
     "execution_count": 20,
     "metadata": {},
     "output_type": "execute_result"
    }
   ],
   "source": [
    "train_label[1] # Negaive"
   ]
  },
  {
   "cell_type": "code",
   "execution_count": null,
   "id": "f8c67888",
   "metadata": {},
   "outputs": [],
   "source": []
  }
 ],
 "metadata": {
  "kernelspec": {
   "display_name": "Python 3 (ipykernel)",
   "language": "python",
   "name": "python3"
  },
  "language_info": {
   "codemirror_mode": {
    "name": "ipython",
    "version": 3
   },
   "file_extension": ".py",
   "mimetype": "text/x-python",
   "name": "python",
   "nbconvert_exporter": "python",
   "pygments_lexer": "ipython3",
   "version": "3.10.9"
  }
 },
 "nbformat": 4,
 "nbformat_minor": 5
}
